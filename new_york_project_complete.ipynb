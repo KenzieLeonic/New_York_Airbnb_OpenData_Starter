{
  "cells": [
    {
      "cell_type": "markdown",
      "metadata": {
        "id": "view-in-github",
        "colab_type": "text"
      },
      "source": [
        "<a href=\"https://colab.research.google.com/github/KenzieLeonic/New_York_Airbnb_OpenData_Starter/blob/main/new_york_project_complete.ipynb\" target=\"_parent\"><img src=\"https://colab.research.google.com/assets/colab-badge.svg\" alt=\"Open In Colab\"/></a>"
      ]
    },
    {
      "cell_type": "markdown",
      "metadata": {
        "id": "Kl_No1-I1AtW"
      },
      "source": [
        "## Import libraries"
      ]
    },
    {
      "cell_type": "code",
      "execution_count": null,
      "metadata": {
        "id": "EILkvatC7asJ"
      },
      "outputs": [],
      "source": [
        "import pandas as pd \n",
        "import numpy as np \n",
        "from scipy import stats\n",
        "import matplotlib.pyplot as plt\n",
        "import seaborn as sns\n",
        "import datetime as dt"
      ]
    },
    {
      "cell_type": "markdown",
      "metadata": {
        "id": "cTcoANPL1OZn"
      },
      "source": [
        "## Data Dictionary (data detail EN to TH)"
      ]
    },
    {
      "cell_type": "markdown",
      "metadata": {
        "id": "qNhmiU3v7asM"
      },
      "source": [
        "Sources =  https://www.kaggle.com/datasets/dgomonov/new-york-city-airbnb-open-data "
      ]
    },
    {
      "cell_type": "markdown",
      "metadata": {
        "id": "QVHViStr7asO"
      },
      "source": [
        "\n",
        "number of columns | columns name\n",
        "0. id : id เป็นตัวแปรประเภท ตัวเลข\n",
        "1. name : ชื่อบ้านเช้า เป็นตัวแปรประเภท string\n",
        "2. host_id : หลายเลขเจ้าของบ้าน ตัวแปรประเภท string\n",
        "3. host_name : ชื่อเจ้าของบ้าน เป็นตัวแปรประเภท string\n",
        "4. neighbourhood_group : เขตการปกครองท้องถิ่นใน New York เป็นตัวแปรประเภท string \n",
        "- Manhattan = แมนแฮตตัน\n",
        "- Brooklyn = บรุกลิน\n",
        "- Queens = ควีน\n",
        "- Bronx = บร็องซ์ \n",
        "- Staten Island = เกาะสแตเทน  \n",
        "\n",
        "5. neighbourhood : พื้นที่ใกล้กับที่พัก เป็นตัวแปรประเภท string \n",
        "6. latitude : พิกัดละติจูด เป็นตัวแปรประเภททศนิยม\n",
        "7. longitude : พิกัดลองจิจูด เป็นตัวแปรประเภททศนิยม\n",
        "8. room_type : ประเภทห้องพัก เป็นตัวแปรประเภท string\n",
        "- Entire home/apt = บ้านหรืออพาร์ตเมนต์  \n",
        "- Private room = ห้องส่วนตัว\n",
        "- Shared room = ห้องแชร์ \n",
        "9. price : ราคาที่พัก เป็นตัวแปรประเภท float \n",
        "10. minimum_nights: คืนที่นอนค้างน้อยที่สุด เป็นตัวแปรประเภทตัวเลข\n",
        "11. number_of_reviews : จำนวนคนที่มารีวิว เป็นตัวแปรประเภทตัวเลข\n",
        "12. last_review : วันที่ลูกค้าเขียนรีวิวล่าสุด เป็นตัวแปรประเภทวันที่ \n",
        "13. reviews_per_month: จำนวนคนที่มารีวิวต่อเดือน เป็นตัวแปรประเภททศนิยม\n",
        "14. calculated_host_listings_count : จำนวนรายการต่อเจ้าของบ้าน เป็นตัวแปรประเภทตัวเลข \n",
        "15. availability_365 : จำนวนวันที่ทำการเปิดจองที่พัก เป็นตัวแปรประเภทตัวเลข"
      ]
    },
    {
      "cell_type": "markdown",
      "metadata": {
        "id": "Fd12-Zn77asP"
      },
      "source": [
        "## Open file 'AB_NYC_2019.csv'"
      ]
    },
    {
      "cell_type": "code",
      "execution_count": null,
      "metadata": {
        "id": "XiChjT5g7asQ"
      },
      "outputs": [],
      "source": [
        "nyc_booking_df = pd.read_csv('AB_NYC_2019.csv')\n",
        "nyc_booking_df"
      ]
    },
    {
      "cell_type": "markdown",
      "metadata": {
        "id": "b0HIOI097asR"
      },
      "source": [
        ""
      ]
    },
    {
      "cell_type": "code",
      "execution_count": null,
      "metadata": {
        "id": "6AI4d5oh7asR"
      },
      "outputs": [],
      "source": [
        "nyc_booking_df.columns"
      ]
    },
    {
      "cell_type": "markdown",
      "metadata": {
        "id": "Hw8QQYt-7asR"
      },
      "source": [
        "## Change Variable Type \n",
        "for changing variable"
      ]
    },
    {
      "cell_type": "code",
      "execution_count": null,
      "metadata": {
        "id": "p-O5KsXj7asS"
      },
      "outputs": [],
      "source": [
        "nyc_booking_df['neighbourhood_group']= nyc_booking_df['neighbourhood_group'].astype(\"category\")\n",
        "nyc_booking_df['room_type'] = nyc_booking_df['room_type'].astype(\"category\")\n",
        "nyc_booking_df['last_review'] = pd.to_datetime(nyc_booking_df['last_review'],format = '%Y-%m-%d')"
      ]
    },
    {
      "cell_type": "markdown",
      "metadata": {
        "id": "_pdxdlw_7asS"
      },
      "source": [
        "## Checking data in dataset"
      ]
    },
    {
      "cell_type": "code",
      "execution_count": null,
      "metadata": {
        "id": "2KgmNYW57asT"
      },
      "outputs": [],
      "source": [
        "#check that there has NaN in this dataset\n",
        "nyc_booking_df.isna().sum() # count NaN"
      ]
    },
    {
      "cell_type": "code",
      "execution_count": null,
      "metadata": {
        "id": "WekLJOLq7asT"
      },
      "outputs": [],
      "source": [
        "nyc_booking_df.value_counts('id')"
      ]
    },
    {
      "cell_type": "code",
      "execution_count": null,
      "metadata": {
        "id": "28HQx5di7asT"
      },
      "outputs": [],
      "source": [
        "nyc_booking_df.value_counts('name').sort_index()"
      ]
    },
    {
      "cell_type": "code",
      "execution_count": null,
      "metadata": {
        "id": "OFGbrlnx7asU"
      },
      "outputs": [],
      "source": [
        "nyc_booking_df.value_counts('host_id')"
      ]
    },
    {
      "cell_type": "code",
      "execution_count": null,
      "metadata": {
        "id": "Oav_jnF_7asU"
      },
      "outputs": [],
      "source": [
        "nyc_booking_df.value_counts('host_name')"
      ]
    },
    {
      "cell_type": "code",
      "execution_count": null,
      "metadata": {
        "id": "q_rZ-FLA7asU"
      },
      "outputs": [],
      "source": [
        "nyc_booking_df.value_counts('neighbourhood_group')"
      ]
    },
    {
      "cell_type": "code",
      "execution_count": null,
      "metadata": {
        "id": "zn6ww-JN7asV"
      },
      "outputs": [],
      "source": [
        "nyc_booking_df.value_counts('neighbourhood')"
      ]
    },
    {
      "cell_type": "code",
      "execution_count": null,
      "metadata": {
        "id": "6IGJNYya7asV"
      },
      "outputs": [],
      "source": [
        "nyc_booking_df.value_counts('latitude')"
      ]
    },
    {
      "cell_type": "code",
      "execution_count": null,
      "metadata": {
        "id": "Uu86HMC17asV"
      },
      "outputs": [],
      "source": [
        "nyc_booking_df.value_counts('longitude')"
      ]
    },
    {
      "cell_type": "code",
      "execution_count": null,
      "metadata": {
        "id": "oNd4X1Tt7asV"
      },
      "outputs": [],
      "source": [
        "nyc_booking_df.value_counts('room_type')"
      ]
    },
    {
      "cell_type": "code",
      "execution_count": null,
      "metadata": {
        "id": "VhesakTV7asW"
      },
      "outputs": [],
      "source": [
        "nyc_booking_df.value_counts('price')"
      ]
    },
    {
      "cell_type": "code",
      "execution_count": null,
      "metadata": {
        "id": "LdIJjHcF7asW"
      },
      "outputs": [],
      "source": [
        "nyc_booking_df.value_counts('minimum_nights')"
      ]
    },
    {
      "cell_type": "code",
      "execution_count": null,
      "metadata": {
        "id": "c9DDG_8j7asW"
      },
      "outputs": [],
      "source": [
        "nyc_booking_df.value_counts('number_of_reviews')"
      ]
    },
    {
      "cell_type": "code",
      "execution_count": null,
      "metadata": {
        "id": "KP45v2dI7asW"
      },
      "outputs": [],
      "source": [
        "nyc_booking_df.value_counts('last_review')"
      ]
    },
    {
      "cell_type": "code",
      "execution_count": null,
      "metadata": {
        "id": "e_32a3Av7asW"
      },
      "outputs": [],
      "source": [
        "nyc_booking_df.value_counts('reviews_per_month')"
      ]
    },
    {
      "cell_type": "code",
      "execution_count": null,
      "metadata": {
        "id": "7s7cpHwR7asX"
      },
      "outputs": [],
      "source": [
        "nyc_booking_df.value_counts('calculated_host_listings_count')\n",
        "nyc_booking_df['calculated_host_listings_count'].max(),nyc_booking_df['calculated_host_listings_count'].mean()"
      ]
    },
    {
      "cell_type": "code",
      "execution_count": null,
      "metadata": {
        "id": "ke_kNJ2p7asX"
      },
      "outputs": [],
      "source": [
        "nyc_booking_df.value_counts('availability_365')"
      ]
    },
    {
      "cell_type": "code",
      "execution_count": null,
      "metadata": {
        "id": "8ykUMvv07asX"
      },
      "outputs": [],
      "source": [
        "nyc_booking_df.groupby('room_type')['price'].agg(['mean','min','max'])"
      ]
    },
    {
      "cell_type": "markdown",
      "metadata": {
        "id": "ae95Uu1h7asX"
      },
      "source": [
        "## Cleaning Data"
      ]
    },
    {
      "cell_type": "markdown",
      "metadata": {
        "id": "X_F_TOsu7asX"
      },
      "source": [
        "drop  minimum night above 365"
      ]
    },
    {
      "cell_type": "code",
      "execution_count": null,
      "metadata": {
        "id": "NHVpB2Vr7asX"
      },
      "outputs": [],
      "source": [
        "nyc_booking_df.info()"
      ]
    },
    {
      "cell_type": "code",
      "execution_count": null,
      "metadata": {
        "id": "-PmoH3Eh7asY"
      },
      "outputs": [],
      "source": [
        "nyc_booking_df = nyc_booking_df[nyc_booking_df['minimum_nights'] <= 365]\n",
        "nyc_booking_df['reviews_per_month'] = nyc_booking_df['reviews_per_month'].fillna(value = 0)\n",
        "nyc_booking_df"
      ]
    },
    {
      "cell_type": "markdown",
      "metadata": {
        "id": "R0J2LiuZ7asY"
      },
      "source": [
        "## Basic Analysis\n"
      ]
    },
    {
      "cell_type": "markdown",
      "metadata": {
        "id": "y9vqN1l37asY"
      },
      "source": [
        "### Checked the mean of rooms' price by neighbourhood_group and room_type\n",
        "ตรวจสอบค่าเฉลี่ย ของค่าที่พัก ของแต่ละแวกบ้าน"
      ]
    },
    {
      "cell_type": "code",
      "execution_count": null,
      "metadata": {
        "id": "69HtAFxS7asY"
      },
      "outputs": [],
      "source": [
        "nyc_price_mean = nyc_booking_df.pivot_table(index = 'neighbourhood_group' , columns = 'room_type' , values = 'price' , aggfunc = np.mean)\n",
        "nyc_price_mean"
      ]
    },
    {
      "cell_type": "markdown",
      "metadata": {
        "id": "ybGWNgPJ1gg1"
      },
      "source": [
        ""
      ]
    },
    {
      "cell_type": "markdown",
      "metadata": {
        "id": "j3YCZOkm7asY"
      },
      "source": [
        "### Compare the adverage , hightest and lowest rooms' price \n",
        "เปรียบเทียบค่าเฉลี่ย ค่าสูงสุด และค่าต่ำสุดของ ราคาของห้องพัก"
      ]
    },
    {
      "cell_type": "markdown",
      "metadata": {
        "id": "pfZBwYR17asZ"
      },
      "source": [
        "compare the room _types' in the mean price "
      ]
    },
    {
      "cell_type": "code",
      "execution_count": null,
      "metadata": {
        "id": "3PUPiwXX7asZ"
      },
      "outputs": [],
      "source": [
        "nyc_max_price_room_mean = nyc_booking_df.groupby(['room_type']).price.mean() \n",
        "nyc_max_price_room_mean = nyc_max_price_room_mean.to_frame('price').reset_index()\n",
        "nyc_max_price_room_mean['class'] = 'Mean'\n",
        "nyc_max_price_room_mean"
      ]
    },
    {
      "cell_type": "markdown",
      "metadata": {
        "id": "a8hjHb9O7asZ"
      },
      "source": [
        "compare the room _types' in the max price "
      ]
    },
    {
      "cell_type": "code",
      "execution_count": null,
      "metadata": {
        "id": "1UC94M0C7asZ"
      },
      "outputs": [],
      "source": [
        "nyc_max_price_room_max = nyc_booking_df.groupby(['room_type']).price.max()\n",
        "nyc_max_price_room_max = nyc_max_price_room_max.to_frame('price').reset_index()\n",
        "nyc_max_price_room_max['class'] = 'Max'\n",
        "nyc_max_price_room_max"
      ]
    },
    {
      "cell_type": "markdown",
      "metadata": {
        "id": "JqigH1cC7asZ"
      },
      "source": [
        "compare the room_types' in the min prices"
      ]
    },
    {
      "cell_type": "code",
      "execution_count": null,
      "metadata": {
        "id": "obnn1vIB7asZ"
      },
      "outputs": [],
      "source": [
        "nyc_max_price_room_min = nyc_booking_df.groupby(['room_type']).price.min()\n",
        "nyc_max_price_room_min = nyc_max_price_room_min.to_frame('price').reset_index()\n",
        "nyc_max_price_room_min['class'] = 'Min'\n",
        "nyc_max_price_room_min"
      ]
    },
    {
      "cell_type": "markdown",
      "metadata": {
        "id": "rVOhL0GL7asZ"
      },
      "source": [
        "merge each 3 data "
      ]
    },
    {
      "cell_type": "code",
      "execution_count": null,
      "metadata": {
        "id": "SieZBauJ7asZ"
      },
      "outputs": [],
      "source": [
        "new_price_type = pd.concat([nyc_max_price_room_mean,nyc_max_price_room_max,nyc_max_price_room_min],axis = 0)\n",
        "new_price_type"
      ]
    },
    {
      "cell_type": "code",
      "execution_count": null,
      "metadata": {
        "id": "Mfn1eUgV7asa"
      },
      "outputs": [],
      "source": [
        "sns.catplot(y = \"price\", x= \"room_type\", data=nyc_max_price_room_max, kind=\"bar\")"
      ]
    },
    {
      "cell_type": "code",
      "execution_count": null,
      "metadata": {
        "id": "Zu56bed47asa"
      },
      "outputs": [],
      "source": [
        "sns.catplot(y= \"price\", x = \"room_type\", data=nyc_max_price_room_mean, kind=\"bar\")"
      ]
    },
    {
      "cell_type": "markdown",
      "metadata": {
        "id": "3S3RZWu37asa"
      },
      "source": [
        "### Data Analysis "
      ]
    },
    {
      "cell_type": "markdown",
      "metadata": {
        "id": "G-mHUt0PJHyL"
      },
      "source": [
        "Compare the room's price by using neighbourhood_group, room_type, minimum_night, number_of_reviews\n",
        "\n"
      ]
    },
    {
      "cell_type": "code",
      "execution_count": 189,
      "metadata": {
        "colab": {
          "base_uri": "https://localhost:8080/",
          "height": 315
        },
        "id": "c5gg4Ei67asa",
        "outputId": "5476d8f9-90bb-482b-81a5-17c0afe396df"
      },
      "outputs": [
        {
          "output_type": "execute_result",
          "data": {
            "text/plain": [
              "<Figure size 1080x432 with 0 Axes>"
            ]
          },
          "metadata": {},
          "execution_count": 189
        },
        {
          "output_type": "display_data",
          "data": {
            "text/plain": [
              "<Figure size 432x288 with 1 Axes>"
            ],
            "image/png": "[encoded data removed]"
          },
          "metadata": {
            "needs_background": "light"
          }
        },
        {
          "output_type": "display_data",
          "data": {
            "text/plain": [
              "<Figure size 1080x432 with 0 Axes>"
            ]
          },
          "metadata": {}
        }
      ],
      "source": [
        "sns.stripplot(x=\"neighbourhood_group\", y=\"price\",hue = 'room_type', data=nyc_booking_df,palette='Set1',dodge = True)\n",
        "plt.figure(figsize=(15,6))"
      ]
    },
    {
      "cell_type": "markdown",
      "metadata": {
        "id": "nQbtGdxqwX6v"
      },
      "source": [
        "Compare the room's mean price by pivot the neighbourhood_group and room_type\n"
      ]
    },
    {
      "cell_type": "code",
      "execution_count": null,
      "metadata": {
        "id": "pY9hEHY27asb"
      },
      "outputs": [],
      "source": [
        "price_mean_group = nyc_booking_df.pivot_table(index = 'neighbourhood_group', values= 'price', columns = 'room_type', aggfunc = 'mean')\n",
        "price_mean_group "
      ]
    },
    {
      "cell_type": "code",
      "execution_count": null,
      "metadata": {
        "id": "P3zrUfzk7asb"
      },
      "outputs": [],
      "source": [
        "sns.heatmap(price_mean_group , cmap='YlOrBr', annot=True,fmt = '.2f')"
      ]
    },
    {
      "cell_type": "markdown",
      "metadata": {
        "id": "6VYeu6FyaWxO"
      },
      "source": [
        "longtitude vs latitude group with neighbourhood_group"
      ]
    },
    {
      "cell_type": "code",
      "execution_count": null,
      "metadata": {
        "id": "x3wXLOYu7asc"
      },
      "outputs": [],
      "source": [
        "g = sns.jointplot(x = 'longitude', y ='latitude' , data = nyc_booking_df,hue = 'neighbourhood_group',kind='scatter')\n",
        "plt.figure(figsize=(15,7))"
      ]
    },
    {
      "cell_type": "code",
      "execution_count": null,
      "metadata": {
        "id": "ySV2fqgT7asb"
      },
      "outputs": [],
      "source": [
        "nyc_booking_df.columns"
      ]
    },
    {
      "cell_type": "markdown",
      "metadata": {
        "id": "PM8O_OkD7asb"
      },
      "source": [
        "## Deep Analysis"
      ]
    },
    {
      "cell_type": "markdown",
      "metadata": {
        "id": "w3nwC9vsxzXo"
      },
      "source": [
        "#### Hypothesis"
      ]
    },
    {
      "cell_type": "markdown",
      "metadata": {
        "id": "v6XIClq8x-3Q"
      },
      "source": [
        "##### Does the room's availability effect to room's price?  (Use bootstrap tecinque)"
      ]
    },
    {
      "cell_type": "code",
      "execution_count": null,
      "metadata": {
        "id": "zxCuLsaqPMbr"
      },
      "outputs": [],
      "source": [
        "import statsmodels.api as sm"
      ]
    },
    {
      "cell_type": "code",
      "execution_count": null,
      "metadata": {
        "id": "4ceTwDmuJSfD"
      },
      "outputs": [],
      "source": [
        "\n",
        "select_df = nyc_booking_df.copy()\n",
        "select_df['Room_Status'] = 0  # before half year\n",
        "select_df.loc[(select_df['availability_365'] >= 183 ),'Room_Status'] = 1 # after half year"
      ]
    },
    {
      "cell_type": "code",
      "execution_count": null,
      "metadata": {
        "id": "HnfQlfTihxNd"
      },
      "outputs": [],
      "source": [
        "#Create new row to compare the room's price\n",
        "select_df['compare_price'] = 'Low Price'\n",
        "select_df.loc[(select_df['price'] > 50), 'compare_price'] = 'High Price'"
      ]
    },
    {
      "cell_type": "code",
      "execution_count": null,
      "metadata": {
        "id": "P6ewO02hOHju"
      },
      "outputs": [],
      "source": [
        "sns.countplot(x = 'compare_price', data = select_df)"
      ]
    },
    {
      "cell_type": "code",
      "execution_count": null,
      "metadata": {
        "id": "IBkb6T7pOucx"
      },
      "outputs": [],
      "source": [
        "#check the number of room status\n",
        "count_status = select_df.groupby('Room_Status').size()\n",
        "#get h0\n",
        "a = count_status.get(1)\n",
        "gA = select_df.sample(a)['compare_price']\n",
        "gA"
      ]
    },
    {
      "cell_type": "code",
      "execution_count": null,
      "metadata": {
        "id": "kq7bNHLnRORg"
      },
      "outputs": [],
      "source": [
        "gB = select_df.drop(gA.index)['compare_price']\n",
        "gB"
      ]
    },
    {
      "cell_type": "code",
      "execution_count": null,
      "metadata": {
        "id": "nQI-0vJqRUrb"
      },
      "outputs": [],
      "source": [
        "gA.value_counts()"
      ]
    },
    {
      "cell_type": "code",
      "execution_count": null,
      "metadata": {
        "id": "Ku8-5bbtRV3T"
      },
      "outputs": [],
      "source": [
        "gB.value_counts()"
      ]
    },
    {
      "cell_type": "code",
      "execution_count": null,
      "metadata": {
        "id": "9MdcBUZORpr2"
      },
      "outputs": [],
      "source": [
        "x = (gA.value_counts().get(0)/gA.size) / (gB.value_counts().get(0) / gB.size)\n",
        "x"
      ]
    },
    {
      "cell_type": "code",
      "execution_count": null,
      "metadata": {
        "id": "icBA0KvHUvzj"
      },
      "outputs": [],
      "source": [
        "#resample 1000 times \n",
        "res = []\n",
        "for x in range(1000):\n",
        "    gA = select_df.sample(a)['price']\n",
        "    gB = select_df.drop(gA.index)['price']\n",
        "    res.append((gA.sum() / gA.size) / (gB.sum() / gB.size))\n",
        "resample_diff = pd.Series(res)"
      ]
    },
    {
      "cell_type": "code",
      "execution_count": null,
      "metadata": {
        "id": "7Uk4T5FveEFB"
      },
      "outputs": [],
      "source": [
        "resample_diff"
      ]
    },
    {
      "cell_type": "markdown",
      "metadata": {
        "id": "fu17nlCitUSk"
      },
      "source": [
        "plot the score to understand this visually"
      ]
    },
    {
      "cell_type": "code",
      "execution_count": null,
      "metadata": {
        "id": "gbXB2EX4s6JO"
      },
      "outputs": [],
      "source": [
        "plt.hist(resample_diff)"
      ]
    },
    {
      "cell_type": "markdown",
      "metadata": {
        "id": "4eyP62hztn7h"
      },
      "source": [
        "find the confident interval\n",
        "p-value and compare with alpha = 0.5\n",
        "\n"
      ]
    },
    {
      "cell_type": "code",
      "execution_count": null,
      "metadata": {
        "id": "o8xbCwQ0ekVq"
      },
      "outputs": [],
      "source": [
        "sum(resample_diff >= x)"
      ]
    },
    {
      "cell_type": "code",
      "execution_count": null,
      "metadata": {
        "id": "ojhjNWbGeoYP"
      },
      "outputs": [],
      "source": [
        "alpha = 0.05\n",
        "p_value = sum(resample_diff >= x) / len(resample_diff)\n",
        "print('pvalue : {}'.format(p_value))\n",
        "if p_value<= alpha:\n",
        "    print(\"reject null hypothesis\")\n",
        "else:\n",
        "    print(\"accept null hypothesis\")"
      ]
    },
    {
      "cell_type": "code",
      "execution_count": null,
      "metadata": {
        "id": "a9KrTadhrwbt"
      },
      "outputs": [],
      "source": [
        "#using library for bootstrap\n",
        "from sklearn.utils import resample\n",
        "select_2 = select_df.loc[:,['Room_Status','compare_price']]\n"
      ]
    },
    {
      "cell_type": "markdown",
      "metadata": {
        "id": "7ls3ppb50ZR5"
      },
      "source": [
        "##### Does the price affect the number of reviews"
      ]
    },
    {
      "cell_type": "code",
      "execution_count": null,
      "metadata": {
        "id": "liQ2v0o6HcZc"
      },
      "outputs": [],
      "source": [
        "low_price = nyc_booking_df[nyc_booking_df['price'] <  np.median(nyc_booking_df['price'])]\n",
        "high_price = nyc_booking_df[nyc_booking_df['price'] >=  np.median(nyc_booking_df['price'])]"
      ]
    },
    {
      "cell_type": "code",
      "execution_count": null,
      "metadata": {
        "id": "KUVRIIPuGNw-"
      },
      "outputs": [],
      "source": [
        "alpha = 0.05\n",
        "tstat,p_value = stats.ttest_ind(low_price['number_of_reviews'],high_price['number_of_reviews'], equal_var=True)\n",
        "print('t stat : {} , p_value : {}'.format(tstat,p_value))\n",
        "if p_value<= alpha:\n",
        "    print(\"reject null hypothesis\")\n",
        "else:\n",
        "    print(\"accept null hypothesis\")"
      ]
    },
    {
      "cell_type": "markdown",
      "metadata": {
        "id": "C7IY8eXG7asc"
      },
      "source": [
        "### Machiene Learning\n",
        "X (input) = 'number_of_reviews','reviews_per_month','price','calculated_host_listings_count','latitude', 'longitude'\n",
        "\n",
        "\n",
        "y = (output) = 'price'"
      ]
    },
    {
      "cell_type": "markdown",
      "metadata": {
        "id": "qCMQJ-jt7asc"
      },
      "source": [
        "##### Find a test cases"
      ]
    },
    {
      "cell_type": "code",
      "execution_count": null,
      "metadata": {
        "id": "bkqTFJlVAP-S"
      },
      "outputs": [],
      "source": [
        "nyc_booking_df.columns"
      ]
    },
    {
      "cell_type": "code",
      "execution_count": null,
      "metadata": {
        "id": "25Xll81c7asc"
      },
      "outputs": [],
      "source": [
        "from sklearn.model_selection import train_test_split\n",
        "select2 = nyc_booking_df.copy()\n",
        "X = select2[['number_of_reviews','reviews_per_month','price','calculated_host_listings_count','latitude', 'longitude']]\n",
        "y = select2.availability_365\n",
        "\n",
        "X_train, X_test, y_train, y_test = train_test_split(X, y, test_size=0.2)\n",
        "X_train.head()"
      ]
    },
    {
      "cell_type": "code",
      "execution_count": null,
      "metadata": {
        "id": "V-R1MsTH7asd"
      },
      "outputs": [],
      "source": [
        "from sklearn.preprocessing import StandardScaler\n",
        "scaler = StandardScaler()\n",
        "X_test.head()\n",
        "y_train.head()"
      ]
    },
    {
      "cell_type": "code",
      "execution_count": null,
      "metadata": {
        "id": "5kYGNwrD7asd"
      },
      "outputs": [],
      "source": [
        "scaler = StandardScaler()"
      ]
    },
    {
      "cell_type": "code",
      "execution_count": null,
      "metadata": {
        "id": "H4jvpKkT7asd"
      },
      "outputs": [],
      "source": [
        "X_train.head(10)"
      ]
    },
    {
      "cell_type": "markdown",
      "metadata": {
        "id": "SHdK2Vzx-YhE"
      },
      "source": [
        "##### K NeighborsClassifier"
      ]
    },
    {
      "cell_type": "code",
      "execution_count": null,
      "metadata": {
        "id": "sfbNIynT7asd"
      },
      "outputs": [],
      "source": [
        "#แบ่งใน sklearn ใน neibor import จาก KNeighbors \n",
        "from sklearn.neighbors import KNeighborsClassifier\n",
        "from sklearn.model_selection import KFold\n",
        "#k = 9\n",
        "knn = KNeighborsClassifier(n_neighbors=9) \n",
        "knn.fit(X_train,y_train) "
      ]
    },
    {
      "cell_type": "code",
      "execution_count": null,
      "metadata": {
        "id": "k_LpPIYM7asd"
      },
      "outputs": [],
      "source": [
        "knn.predict(X_test)"
      ]
    },
    {
      "cell_type": "markdown",
      "metadata": {
        "id": "byQBPbT7q9U1"
      },
      "source": [
        "Find the accuracy score"
      ]
    },
    {
      "cell_type": "code",
      "execution_count": null,
      "metadata": {
        "id": "-PQGGVTg7asd"
      },
      "outputs": [],
      "source": [
        "knn.score(X_test,y_test)\n",
        "print('Accuracy score = {}'.format(knn.score(X_test,y_test)))"
      ]
    },
    {
      "cell_type": "markdown",
      "metadata": {
        "id": "zm5mDsxkYAIU"
      },
      "source": [
        "##### K-Fold Cross-validation"
      ]
    },
    {
      "cell_type": "code",
      "execution_count": null,
      "metadata": {
        "id": "0neocjNpVkaW"
      },
      "outputs": [],
      "source": [
        "# K-Fold Cross-validation\n",
        "from sklearn.model_selection import cross_val_score\n",
        "\n",
        "cv = KFold(n_splits=10, random_state=1, shuffle=True)\n",
        "knn_f = KNeighborsClassifier(n_neighbors= 9) # classifier (no fit)\n",
        "score = cross_val_score(knn_f, X, y, cv = cv) # cv = k (amount of test cases)\n",
        "\n",
        "print(\"Accuracy score :\")\n",
        "print(\"mean = {} , std = {}\".format(np.mean(score), np.std(score)))"
      ]
    },
    {
      "cell_type": "markdown",
      "metadata": {
        "id": "rbgR9NAt-q--"
      },
      "source": [
        "##### Linear Regression"
      ]
    },
    {
      "cell_type": "code",
      "execution_count": null,
      "metadata": {
        "id": "YahzWolm7asd"
      },
      "outputs": [],
      "source": [
        "from sklearn.linear_model import LinearRegression\n",
        "lm = LinearRegression()\n",
        "lm.fit(X_train,y_train)"
      ]
    },
    {
      "cell_type": "markdown",
      "metadata": {
        "id": "ywvM3yCD_mpf"
      },
      "source": [
        "Model Evaluation "
      ]
    },
    {
      "cell_type": "code",
      "execution_count": null,
      "metadata": {
        "id": "ypWD8nZ1_iVa"
      },
      "outputs": [],
      "source": [
        "print(lm.intercept_)"
      ]
    },
    {
      "cell_type": "code",
      "execution_count": null,
      "metadata": {
        "id": "RrtbYvEc_n3A"
      },
      "outputs": [],
      "source": [
        "coeff_df = pd.DataFrame(lm.coef_ , X.columns , columns=['Coefficient'])\n",
        "coeff_df"
      ]
    },
    {
      "cell_type": "code",
      "execution_count": null,
      "metadata": {
        "id": "eoz3-iJaAD99"
      },
      "outputs": [],
      "source": [
        "predictions = lm.predict(X_test)\n",
        "plt.scatter(y_test,predictions)"
      ]
    },
    {
      "cell_type": "code",
      "execution_count": null,
      "metadata": {
        "id": "uh2dvyNJAFgN"
      },
      "outputs": [],
      "source": [
        "sns.displot((y_test-predictions),bins=30);"
      ]
    },
    {
      "cell_type": "markdown",
      "metadata": {
        "id": "-EQlXKAXBo96"
      },
      "source": [
        "##### Regression Evaluation Metrics"
      ]
    },
    {
      "cell_type": "code",
      "execution_count": null,
      "metadata": {
        "id": "JXMgjf8eBfqb"
      },
      "outputs": [],
      "source": [
        "from sklearn import metrics\n",
        "\n",
        "print('MAE:', metrics.mean_absolute_error(y_test, predictions))\n",
        "print('MSE:', metrics.mean_squared_error(y_test, predictions))\n",
        "print('RMSE:', np.sqrt(metrics.mean_squared_error(y_test, predictions)))"
      ]
    },
    {
      "cell_type": "code",
      "execution_count": null,
      "metadata": {
        "id": "h2RDB8OlBljB"
      },
      "outputs": [],
      "source": [
        ""
      ]
    }
  ],
  "metadata": {
    "colab": {
      "collapsed_sections": [
        "y9vqN1l37asY",
        "j3YCZOkm7asY",
        "w3nwC9vsxzXo",
        "C7IY8eXG7asc"
      ],
      "name": "new_york_project-complete",
      "provenance": [],
      "include_colab_link": true
    },
    "datalore": {
      "base_environment": "default",
      "computation_mode": "JUPYTER",
      "package_manager": "pip",
      "packages": [],
      "version": 1
    },
    "kernelspec": {
      "display_name": "Python 3",
      "name": "python3"
    },
    "language_info": {
      "name": "python"
    }
  },
  "nbformat": 4,
  "nbformat_minor": 0
}